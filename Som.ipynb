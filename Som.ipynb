{
 "cells": [
  {
   "cell_type": "code",
   "execution_count": 18,
   "id": "a9a746bd",
   "metadata": {},
   "outputs": [],
   "source": [
    "import pandas as pd\n",
    "import matplotlib.pyplot as plt\n",
    "import numpy as np\n",
    "from sklearn.preprocessing import MinMaxScaler"
   ]
  },
  {
   "cell_type": "code",
   "execution_count": 12,
   "id": "ffe33d6f",
   "metadata": {},
   "outputs": [],
   "source": [
    "#Reading the Dataset.\n",
    "dataset= pd.read_csv('Credit_Card_Applications.csv')"
   ]
  },
  {
   "cell_type": "code",
   "execution_count": 13,
   "id": "912aaeed",
   "metadata": {},
   "outputs": [],
   "source": [
    "#Dividing the Dataset into features and class.\n",
    "X=dataset.iloc[:,:-1].values\n",
    "Y=dataset.iloc[:,-1].values"
   ]
  },
  {
   "cell_type": "code",
   "execution_count": 19,
   "id": "07489bc5",
   "metadata": {},
   "outputs": [],
   "source": [
    "#Feature Scaling\n",
    "sc=MinMaxScaler(feature_range=(0,1))"
   ]
  },
  {
   "cell_type": "code",
   "execution_count": 20,
   "id": "ec7bc23e",
   "metadata": {},
   "outputs": [],
   "source": [
    "X=sc.fit_transform(X)"
   ]
  },
  {
   "cell_type": "code",
   "execution_count": 26,
   "id": "d018e151",
   "metadata": {},
   "outputs": [
    {
     "name": "stdout",
     "output_type": "stream",
     "text": [
      "Collecting MiniSom\n",
      "  Downloading MiniSom-2.3.1.tar.gz (10 kB)\n",
      "  Preparing metadata (setup.py): started\n",
      "  Preparing metadata (setup.py): finished with status 'done'\n",
      "Building wheels for collected packages: MiniSom\n",
      "  Building wheel for MiniSom (setup.py): started\n",
      "  Building wheel for MiniSom (setup.py): finished with status 'done'\n",
      "  Created wheel for MiniSom: filename=MiniSom-2.3.1-py3-none-any.whl size=10601 sha256=21e21def0093f7c425920820b1e1f82f0bdbc775a3a21913ca758963f4e5a7a9\n",
      "  Stored in directory: c:\\users\\hp\\appdata\\local\\pip\\cache\\wheels\\28\\e3\\3d\\707f393fa9013d5ab7b3ffb914ded8ca3c40dec231fa392528\n",
      "Successfully built MiniSom\n",
      "Installing collected packages: MiniSom\n",
      "Successfully installed MiniSom-2.3.1\n"
     ]
    },
    {
     "name": "stderr",
     "output_type": "stream",
     "text": [
      "\n",
      "[notice] A new release of pip is available: 23.2.1 -> 23.3.2\n",
      "[notice] To update, run: python.exe -m pip install --upgrade pip\n"
     ]
    }
   ],
   "source": [
    "!pip install MiniSom"
   ]
  },
  {
   "cell_type": "code",
   "execution_count": 31,
   "id": "63b3b16d",
   "metadata": {},
   "outputs": [],
   "source": [
    "#Traning the SOM\n",
    "from minisom import MiniSom\n",
    "som=MiniSom(x=20,y=20,input_len=15,sigma=1.0,learning_rate=0.5)"
   ]
  },
  {
   "cell_type": "code",
   "execution_count": 32,
   "id": "51665ad5",
   "metadata": {},
   "outputs": [],
   "source": [
    "#Randomly assign the vectors as Zero.\n",
    "som.random_weights_init(X)"
   ]
  },
  {
   "cell_type": "code",
   "execution_count": 34,
   "id": "19357758",
   "metadata": {},
   "outputs": [],
   "source": [
    "#Train the method on X[Repeat steps.]\n",
    "som.train_random(data=X,num_iteration=100)"
   ]
  },
  {
   "cell_type": "code",
   "execution_count": 35,
   "id": "bea40788",
   "metadata": {},
   "outputs": [],
   "source": [
    "#Visualize the results [2D Grid].\n",
    "from pylab import bone,pcolor,colorbar,plot,show"
   ]
  },
  {
   "cell_type": "code",
   "execution_count": null,
   "id": "b2322cc8",
   "metadata": {},
   "outputs": [],
   "source": []
  }
 ],
 "metadata": {
  "kernelspec": {
   "display_name": "Python 3 (ipykernel)",
   "language": "python",
   "name": "python3"
  },
  "language_info": {
   "codemirror_mode": {
    "name": "ipython",
    "version": 3
   },
   "file_extension": ".py",
   "mimetype": "text/x-python",
   "name": "python",
   "nbconvert_exporter": "python",
   "pygments_lexer": "ipython3",
   "version": "3.11.2"
  }
 },
 "nbformat": 4,
 "nbformat_minor": 5
}
